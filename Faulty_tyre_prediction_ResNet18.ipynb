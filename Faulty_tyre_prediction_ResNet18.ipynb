{
  "nbformat": 4,
  "nbformat_minor": 0,
  "metadata": {
    "colab": {
      "provenance": [],
      "machine_shape": "hm",
      "gpuType": "L4"
    },
    "kernelspec": {
      "name": "python3",
      "display_name": "Python 3"
    },
    "language_info": {
      "name": "python"
    },
    "accelerator": "GPU"
  },
  "cells": [
    {
      "cell_type": "code",
      "execution_count": null,
      "metadata": {
        "id": "yjpMEX0NNlgX"
      },
      "outputs": [],
      "source": [
        "import torch\n",
        "import torch.nn as nn\n",
        "from torchvision import datasets, transforms, models\n",
        "from efficientnet_pytorch import EfficientNet\n",
        "from torchvision.models import mobilenet_v2\n",
        "from torchvision.models import resnet18"
      ]
    },
    {
      "cell_type": "code",
      "source": [
        "import torch.optim as optim\n",
        "from torch.utils.data import DataLoader\n",
        "import numpy as np\n",
        "import matplotlib.pyplot as plt\n",
        "from PIL import Image, ImageFile\n",
        "\n",
        "\n",
        "from sklearn.metrics import confusion_matrix\n",
        "import seaborn as sns\n",
        "\n",
        "\n",
        "import os\n",
        "from pathlib import Path\n",
        "\n",
        "import os\n",
        "import shutil\n",
        "from sklearn.model_selection import train_test_split\n",
        "from torch.utils.data import DataLoader, Subset\n"
      ],
      "metadata": {
        "id": "VZvyWU21OFoV"
      },
      "execution_count": null,
      "outputs": []
    },
    {
      "cell_type": "code",
      "source": [
        "device = 'cuda' if torch.cuda.is_available() else 'cpu'"
      ],
      "metadata": {
        "id": "kpi2WgWmOPvk"
      },
      "execution_count": null,
      "outputs": []
    },
    {
      "cell_type": "code",
      "source": [
        "from google.colab import drive\n",
        "drive.mount('/content/drive')"
      ],
      "metadata": {
        "id": "QKGGLrXTORP8"
      },
      "execution_count": null,
      "outputs": []
    },
    {
      "cell_type": "code",
      "source": [
        "# Path to the zip file in your Google Drive\n",
        "zip_file_path = '/content/drive/My Drive/Faulty_tyre_detection.zip'\n",
        "\n",
        "\n",
        "extracted_folder_path = '/content/faulty_tyre_detection_dataset'\n",
        "\n",
        "# Create directory if it doesn't exist\n",
        "os.makedirs(extracted_folder_path, exist_ok=True)\n",
        "\n",
        "# Extract the zip file\n",
        "import zipfile\n",
        "with zipfile.ZipFile(zip_file_path, 'r') as zip_ref:\n",
        "    zip_ref.extractall(extracted_folder_path)"
      ],
      "metadata": {
        "id": "Cvzvr5J4Og-1"
      },
      "execution_count": null,
      "outputs": []
    },
    {
      "cell_type": "code",
      "source": [
        "data_dir = '/content/faulty_tyre_detection_dataset/Digital images of defective and good condition tyres'\n",
        "train_dir = os.path.join('/content/faulty_tyre_detection_dataset', 'train')\n",
        "test_dir = os.path.join('/content/faulty_tyre_detection_dataset', 'test')\n",
        "\n",
        "# Create train and test directories\n",
        "os.makedirs(train_dir, exist_ok=True)\n",
        "os.makedirs(test_dir, exist_ok=True)\n",
        "\n",
        "# Define categories\n",
        "categories = ['good', 'defective']\n",
        "\n",
        "# Create category directories in train and test folders\n",
        "for category in categories:\n",
        "    os.makedirs(os.path.join(train_dir, category), exist_ok=True)\n",
        "    os.makedirs(os.path.join(test_dir, category), exist_ok=True)\n",
        "\n",
        "def split_and_move_images(category):\n",
        "    category_path = os.path.join(data_dir, category)\n",
        "    images = os.listdir(category_path)\n",
        "\n",
        "    train_images, test_images = train_test_split(images, test_size=0.2, random_state=42)\n",
        "\n",
        "    for img in train_images:\n",
        "        shutil.move(os.path.join(category_path, img), os.path.join(train_dir, category, img))\n",
        "\n",
        "    for img in test_images:\n",
        "        shutil.move(os.path.join(category_path, img), os.path.join(test_dir, category, img))"
      ],
      "metadata": {
        "id": "cRQ-6liuOhBi"
      },
      "execution_count": null,
      "outputs": []
    },
    {
      "cell_type": "code",
      "source": [
        "for category in categories:\n",
        "    split_and_move_images(category)"
      ],
      "metadata": {
        "id": "fheeXFxFOhEi"
      },
      "execution_count": null,
      "outputs": []
    },
    {
      "cell_type": "code",
      "source": [
        "import os\n",
        "def walk_through_dir(dir_path):\n",
        "\n",
        "  for dirpath, dirnames, filenames in os.walk(dir_path):\n",
        "    print(f\"There are {len(dirnames)} directories and {len(filenames)} images in '{dirpath}'.\")\n",
        "\n",
        "walk_through_dir(extracted_folder_path)"
      ],
      "metadata": {
        "id": "TxlvWtY9OhHS"
      },
      "execution_count": null,
      "outputs": []
    },
    {
      "cell_type": "code",
      "source": [
        "import random\n",
        "from PIL import Image\n",
        "\n",
        "# Set seed\n",
        "random.seed(42)\n",
        "\n",
        "# 1. Get the image path list\n",
        "image_path_list = []\n",
        "for root, dirs, files in os.walk(extracted_folder_path):\n",
        "    for file in files:\n",
        "        if file.endswith(\".jpg\"):\n",
        "            image_path_list.append(os.path.join(root, file))\n",
        "\n",
        "\n",
        "# 2. Get random image path\n",
        "random_image_path = random.choice(image_path_list)\n",
        "\n",
        "# 3. Get image class from path name (the image class is the name of the directory where the image is stored)\n",
        "image_class = os.path.basename(os.path.dirname(random_image_path))\n",
        "\n",
        "# 4. Open image\n",
        "img = Image.open(random_image_path)\n",
        "\n",
        "# 5. Print metadata\n",
        "print(f\"Random image path: {random_image_path}\")\n",
        "print(f\"Image class: {image_class}\")\n",
        "print(f\"Image height: {img.height}\")\n",
        "print(f\"Image width: {img.width}\")\n",
        "img"
      ],
      "metadata": {
        "collapsed": true,
        "id": "tzs53bQrPrJZ"
      },
      "execution_count": null,
      "outputs": []
    },
    {
      "cell_type": "code",
      "source": [
        "train_dir, test_dir"
      ],
      "metadata": {
        "id": "Bw-vWhSVOhKS"
      },
      "execution_count": null,
      "outputs": []
    },
    {
      "cell_type": "code",
      "source": [
        "transforms = transforms.Compose([\n",
        "    transforms.RandomResizedCrop(224), # Randomly crop the image to 224x224\n",
        "    transforms.RandomHorizontalFlip(), # Randomly flip the image horizontally\n",
        "    transforms.RandomRotation(15), # Randomly rotate the image by up to 15 degrees\n",
        "    transforms.ColorJitter(brightness=0.2, contrast=0.2, saturation=0.2, hue=0.1), # Randomly change the brightness, contrast, saturation, and hue\n",
        "    transforms.RandomVerticalFlip(p=0.1), # Randomly flip the image vertically with a probability of 0.1\n",
        "    transforms.ToTensor(), # Turn image values to between 0 & 1\n",
        "    transforms.Normalize(mean=[0.485, 0.456, 0.406], # A mean of [0.485, 0.456, 0.406] (across each colour channel)\n",
        "                         std=[0.229, 0.224, 0.225]) # A standard deviation of [0.229, 0.224, 0.225] (across each colour channel)\n",
        "])"
      ],
      "metadata": {
        "id": "dqaXLoTROhMh"
      },
      "execution_count": null,
      "outputs": []
    },
    {
      "cell_type": "code",
      "source": [
        "train_data = datasets.ImageFolder(root=train_dir, transform=transforms)\n",
        "test_data = datasets.ImageFolder(root=test_dir, transform=transforms)"
      ],
      "metadata": {
        "id": "4PIny_oKP-oV"
      },
      "execution_count": null,
      "outputs": []
    },
    {
      "cell_type": "code",
      "source": [
        "num_workers = os.cpu_count()\n",
        "batch_size = 32\n",
        "time_out = 60\n",
        "train_dataloader = DataLoader(dataset=train_data,\n",
        "                              batch_size=batch_size, # how many samples per batch?\n",
        "                              num_workers=num_workers,\n",
        "                              persistent_workers=True,\n",
        "                              timeout = time_out,\n",
        "                              shuffle=True) # shuffle the data?\n",
        "\n",
        "test_dataloader = DataLoader(dataset=test_data,\n",
        "                             batch_size=batch_size,\n",
        "                             num_workers=num_workers,\n",
        "                             shuffle=False) # don't usually need to shuffle testing data"
      ],
      "metadata": {
        "id": "oUitDGKsQ31h"
      },
      "execution_count": null,
      "outputs": []
    },
    {
      "cell_type": "code",
      "source": [
        "def train_model(model, train_dataloader, criterion, optimizer, device, num_epochs=100, epochs_per_iteration=10):\n",
        "    model.train()\n",
        "    total_loss = 0.0\n",
        "    total_correct_predictions = 0\n",
        "    total_predictions = 0\n",
        "\n",
        "    for iteration in range(num_epochs // epochs_per_iteration):\n",
        "        print(f\"Iteration {iteration + 1}/{num_epochs // epochs_per_iteration}:\")\n",
        "        running_loss = 0.0\n",
        "        correct_predictions = 0\n",
        "        total_predictions = 0\n",
        "\n",
        "        for epoch in range(epochs_per_iteration):\n",
        "            for batch_idx, (data, target) in enumerate(train_dataloader):\n",
        "                data, target = data.to(device), target.to(device)  # Transfer data to device\n",
        "\n",
        "                optimizer.zero_grad()\n",
        "                outputs = model(data)\n",
        "                loss = criterion(outputs, target)\n",
        "                loss.backward()\n",
        "                optimizer.step()\n",
        "\n",
        "                # Accumulate loss and calculate accuracy\n",
        "                running_loss += loss.item()\n",
        "                _, predicted = torch.max(outputs, 1)\n",
        "                total_predictions += target.size(0)\n",
        "                correct_predictions += (predicted == target).sum().item()\n",
        "\n",
        "            # Print epoch statistics\n",
        "            epoch_loss = running_loss / len(train_dataloader)\n",
        "            epoch_accuracy = correct_predictions / total_predictions * 100\n",
        "            print(f\"Epoch [{(iteration * epochs_per_iteration) + epoch + 1}/{num_epochs}], Loss: {epoch_loss:.4f}, Accuracy: {epoch_accuracy:.2f}%\")\n",
        "\n",
        "        # Accumulate statistics for the iteration\n",
        "        total_loss += running_loss\n",
        "        total_correct_predictions += correct_predictions\n",
        "\n",
        "    # Calculate overall statistics\n",
        "    overall_loss = total_loss / (len(train_dataloader) * (num_epochs // epochs_per_iteration))\n",
        "    overall_accuracy = total_correct_predictions / (total_predictions * (num_epochs // epochs_per_iteration)) * 100\n",
        "\n",
        "    print(f'Finished Training\\nOverall Loss: {overall_loss:.4f}, Overall Accuracy: {overall_accuracy:.2f}%')\n"
      ],
      "metadata": {
        "id": "ojrcfYFARC9p"
      },
      "execution_count": null,
      "outputs": []
    },
    {
      "cell_type": "code",
      "source": [
        "def evaluation(model, test_dataloader, criterion, device):\n",
        "    model.eval()\n",
        "    test_loss = 0.0\n",
        "    correct = 0\n",
        "    test_preds = []  # List to store predictions\n",
        "    test_labels = []  # List to store true labels\n",
        "\n",
        "    with torch.no_grad():\n",
        "        for images, labels in test_dataloader:\n",
        "            images, labels = images.to(device), labels.to(device)\n",
        "            outputs = model(images)\n",
        "            loss = criterion(outputs, labels)\n",
        "            test_loss += loss.item()\n",
        "            _, predicted = torch.max(outputs, 1)\n",
        "            correct += (predicted == labels).sum().item()\n",
        "\n",
        "            # Append predictions and true labels to the lists\n",
        "            test_preds.extend(predicted.cpu().numpy())\n",
        "            test_labels.extend(labels.cpu().numpy())\n",
        "\n",
        "    test_loss /= len(test_dataloader)\n",
        "    accuracy = 100. * correct / len(test_dataloader.dataset)\n",
        "\n",
        "    print(f\"Test Loss: {test_loss:.4f}, Test Accuracy: {accuracy:.2f}%\")\n",
        "    return test_loss, accuracy, test_labels, test_preds\n",
        "\n",
        "\n"
      ],
      "metadata": {
        "id": "R8XMxGkvTvO5"
      },
      "execution_count": null,
      "outputs": []
    },
    {
      "cell_type": "code",
      "source": [
        "# Load pre-trained ResNet18\n",
        "resnet18 = models.resnet18(pretrained=True)\n",
        "\n",
        "# Replace the last layer (classifier) to match number of classes for fine-tuning\n",
        "num_classes = len(train_data.classes)  # Assuming train_data contains your dataset\n",
        "resnet18.fc = nn.Linear(resnet18.fc.in_features, num_classes)\n",
        "\n",
        "# Freeze all layers except the last layer for fine-tuning\n",
        "for param in resnet18.parameters():\n",
        "    param.requires_grad = False\n",
        "\n",
        "for param in resnet18.fc.parameters():\n",
        "    param.requires_grad = True\n",
        "\n",
        "\n",
        "resnet18.to(device)"
      ],
      "metadata": {
        "collapsed": true,
        "id": "eLdyjeOywyCz"
      },
      "execution_count": null,
      "outputs": []
    },
    {
      "cell_type": "code",
      "source": [
        "def save_model(model, filepath):\n",
        "    torch.save(model.state_dict(), filepath)\n",
        "    print(f\"Model saved to {filepath}\")"
      ],
      "metadata": {
        "id": "x1FJzXo0y7z1"
      },
      "execution_count": null,
      "outputs": []
    },
    {
      "cell_type": "code",
      "source": [
        "criterion = nn.CrossEntropyLoss()\n",
        "optimizer = optim.Adam(resnet18.parameters(), lr=0.001)"
      ],
      "metadata": {
        "id": "NkZRZx41xA_f"
      },
      "execution_count": null,
      "outputs": []
    },
    {
      "cell_type": "code",
      "source": [
        "import time\n",
        "t0 = time.time()\n",
        "train_model(resnet18, train_dataloader, criterion, optimizer, device)\n",
        "t_final = time.time()\n",
        "print(f\" Time taken {t_final - t0}\")\n",
        "save_model(resnet18, '/content/drive/MyDrive/faulty_tyre_resent18_checkpoint.pth')"
      ],
      "metadata": {
        "id": "qKJKSFRDxbKO",
        "collapsed": true
      },
      "execution_count": null,
      "outputs": []
    },
    {
      "cell_type": "code",
      "source": [
        "resnet18_test_loss, resnet18_test_accuracy, test_preds, test_labels = evaluation(resnet18, test_dataloader, criterion, device)"
      ],
      "metadata": {
        "colab": {
          "base_uri": "https://localhost:8080/"
        },
        "id": "o_S5LJWVxbNQ",
        "outputId": "bd959555-64a0-48f2-fd3c-dc17e841bdbb"
      },
      "execution_count": null,
      "outputs": [
        {
          "output_type": "stream",
          "name": "stdout",
          "text": [
            "Test Loss: 0.2038, Test Accuracy: 91.94%\n"
          ]
        }
      ]
    },
    {
      "cell_type": "code",
      "source": [
        "def plot_confusion_matrix(y_true, y_pred, classes):\n",
        "    # Convert inputs to numpy arrays\n",
        "    y_true = np.array(y_true)\n",
        "    y_pred = np.array(y_pred)\n",
        "\n",
        "    # Compute confusion matrix\n",
        "    cm = confusion_matrix(y_true, y_pred)\n",
        "\n",
        "    # Normalize the confusion matrix\n",
        "    cm = cm.astype('float') / cm.sum(axis=1)[:, np.newaxis]\n",
        "\n",
        "    # Plot confusion matrix\n",
        "    plt.figure(figsize=(6, 4))\n",
        "    sns.heatmap(cm, annot=True, fmt=\".2f\", cmap=\"Blues\", xticklabels=classes, yticklabels=classes)\n",
        "    plt.title('Normalized Confusion Matrix')\n",
        "    plt.xlabel('Predicted label')\n",
        "    plt.ylabel('True label')\n",
        "    plt.show()"
      ],
      "metadata": {
        "id": "qd4XbcaCxbQO"
      },
      "execution_count": null,
      "outputs": []
    },
    {
      "cell_type": "code",
      "source": [
        "class_names = train_data.classes\n",
        "plot_confusion_matrix(test_labels, test_preds, class_names)"
      ],
      "metadata": {
        "colab": {
          "base_uri": "https://localhost:8080/",
          "height": 410
        },
        "id": "12L6jpvJxbSc",
        "outputId": "1d6fd218-70cc-4e9c-954e-21e635bdc9be"
      },
      "execution_count": null,
      "outputs": [
        {
          "output_type": "display_data",
          "data": {
            "text/plain": [
              "<Figure size 600x400 with 2 Axes>"
            ],
            "image/png": "[encoded data removed]"
          },
          "metadata": {}
        }
      ]
    }
  ]
}